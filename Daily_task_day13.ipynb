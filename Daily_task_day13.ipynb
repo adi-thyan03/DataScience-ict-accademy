{
  "nbformat": 4,
  "nbformat_minor": 0,
  "metadata": {
    "colab": {
      "provenance": [],
      "authorship_tag": "ABX9TyOzRMz1/MGyjrHTH39I9WOm",
      "include_colab_link": true
    },
    "kernelspec": {
      "name": "python3",
      "display_name": "Python 3"
    },
    "language_info": {
      "name": "python"
    }
  },
  "cells": [
    {
      "cell_type": "markdown",
      "metadata": {
        "id": "view-in-github",
        "colab_type": "text"
      },
      "source": [
        "<a href=\"https://colab.research.google.com/github/adi-thyan03/DataScience-ict-accademy/blob/main/Daily_task_day13.ipynb\" target=\"_parent\"><img src=\"https://colab.research.google.com/assets/colab-badge.svg\" alt=\"Open In Colab\"/></a>"
      ]
    },
    {
      "cell_type": "markdown",
      "source": [
        "1. Take input of age of 3 people by user and determine oldest and\n",
        "youngest among them."
      ],
      "metadata": {
        "id": "CVqAN4aoJ5gm"
      }
    },
    {
      "cell_type": "code",
      "execution_count": 1,
      "metadata": {
        "colab": {
          "base_uri": "https://localhost:8080/"
        },
        "id": "npPhZf_rJriG",
        "outputId": "24f67712-3a86-428d-d67b-1ebebaeedcfe"
      },
      "outputs": [
        {
          "output_type": "stream",
          "name": "stdout",
          "text": [
            "Enter age of the first person: 50\n",
            "Enter age of the second person: 44\n",
            "Enter age of the third person: 25\n",
            "The oldest person is: 50 years old.\n",
            "The youngest person is: 25 years old.\n"
          ]
        }
      ],
      "source": [
        "age1 = int(input(\"Enter age of the first person: \"))\n",
        "age2 = int(input(\"Enter age of the second person: \"))\n",
        "age3 = int(input(\"Enter age of the third person: \"))\n",
        "\n",
        "ages = [age1, age2, age3]\n",
        "oldest = max(ages)\n",
        "youngest = min(ages)\n",
        "\n",
        "print(\"The oldest person is:\", oldest, \"years old.\")\n",
        "print(\"The youngest person is:\", youngest, \"years old.\")\n"
      ]
    },
    {
      "cell_type": "markdown",
      "source": [
        "2. Write a program that asks the user for their exam score and\n",
        "calculates their grade based on the following conditions:\n",
        "a. A score of 90 or above is an A.\n",
        "b. A score between 80 and 89 is a B.\n",
        "c. A score between 70 and 79 is a C.\n",
        "d. A score below 70 is an F."
      ],
      "metadata": {
        "id": "5npQFHVDKYW6"
      }
    },
    {
      "cell_type": "code",
      "source": [
        "score = float(input(\"Enter your exam score: \"))\n",
        "\n",
        "\n",
        "if score >= 90:\n",
        "    grade = 'A'\n",
        "elif score >= 80:\n",
        "    grade = 'B'\n",
        "elif score >= 70:\n",
        "    grade = 'C'\n",
        "else:\n",
        "    grade = 'F'\n",
        "\n",
        "\n",
        "print(\"Your grade is:\", grade)\n"
      ],
      "metadata": {
        "colab": {
          "base_uri": "https://localhost:8080/"
        },
        "id": "61fAIhvOKOp-",
        "outputId": "32adbf23-d1ec-4a6b-ebaa-7a9747e6090e"
      },
      "execution_count": 2,
      "outputs": [
        {
          "output_type": "stream",
          "name": "stdout",
          "text": [
            "Enter your exam score: 81\n",
            "Your grade is: B\n"
          ]
        }
      ]
    },
    {
      "cell_type": "markdown",
      "source": [
        "3. Create a program that asks the user for a list of grocery items they\n",
        "need to buy and organizes the list alphabetically"
      ],
      "metadata": {
        "id": "3MjPs_jRK067"
      }
    },
    {
      "cell_type": "code",
      "source": [
        "print(\"Enter your grocery items:\")\n",
        "items_input = input()\n",
        "\n",
        "\n",
        "items_list = [item.strip() for item in items_input.split(',')]\n",
        "\n",
        "items_list.sort()\n",
        "\n",
        "print(\"Your grocery list sorted alphabetically:\")\n",
        "for item in items_list:\n",
        "    print(item)\n"
      ],
      "metadata": {
        "colab": {
          "base_uri": "https://localhost:8080/"
        },
        "id": "eXljxyNmKuS3",
        "outputId": "bd137caf-5d32-4bbc-ffa0-0e3b9c85515a"
      },
      "execution_count": 4,
      "outputs": [
        {
          "output_type": "stream",
          "name": "stdout",
          "text": [
            "Enter your grocery items:\n",
            "apple,orange,grapes,banana,milk,mango\n",
            "Your grocery list sorted alphabetically:\n",
            "apple\n",
            "banana\n",
            "grapes\n",
            "mango\n",
            "milk\n",
            "orange\n"
          ]
        }
      ]
    },
    {
      "cell_type": "markdown",
      "source": [
        "4. Write a program that asks the user for an email address and\n",
        "checks if it is valid (contains an \"@\" symbol and a valid domain)."
      ],
      "metadata": {
        "id": "Nt3k3XEXLchM"
      }
    },
    {
      "cell_type": "code",
      "source": [
        "import re\n",
        "\n",
        "def is_valid_email(email):\n",
        "\n",
        "    pattern = r'^[\\w\\.-]+@[\\w\\.-]+\\.\\w+$'\n",
        "    return re.match(pattern, email) is not None\n",
        "\n",
        "email = input(\"Enter your email address: \")\n",
        "\n",
        "if is_valid_email(email):\n",
        "    print(\"The email address is valid.\")\n",
        "else:\n",
        "    print(\"The email address is invalid.\")\n"
      ],
      "metadata": {
        "colab": {
          "base_uri": "https://localhost:8080/"
        },
        "id": "ohJ0MQvCLGwd",
        "outputId": "0923803d-0a78-4c4a-b827-8468659dd8a0"
      },
      "execution_count": 5,
      "outputs": [
        {
          "output_type": "stream",
          "name": "stdout",
          "text": [
            "Enter your email address: abc@gmail.com\n",
            "The email address is valid.\n"
          ]
        }
      ]
    },
    {
      "cell_type": "markdown",
      "source": [
        "5. Create a program that asks the user for the number of days they\n",
        "have delayed returning a library book. If the delay is less than or\n",
        "equal to 7 days, there is no fine. If the delay is between 8 and 30\n",
        "days, apply a fine of 2 rupees per day. If the delay is more than\n",
        "30 days, apply a fine of 5 rupees per day. Print the total fine\n",
        "amount"
      ],
      "metadata": {
        "id": "wQqMZo5-L2XC"
      }
    },
    {
      "cell_type": "code",
      "source": [
        "days_delayed = int(input(\"Enter the number of days you have delayed returning the library book: \"))\n",
        "\n",
        "\n",
        "fine = 0\n",
        "\n",
        "if days_delayed <= 7:\n",
        "    fine = 0\n",
        "elif 8 <= days_delayed <= 30:\n",
        "    fine = (days_delayed - 7) * 2\n",
        "else:\n",
        "    fine = (days_delayed - 30) * 5 + (23 * 2)\n",
        "\n",
        "print(\"The total fine amount is:\", fine, \"rupees.\")\n"
      ],
      "metadata": {
        "colab": {
          "base_uri": "https://localhost:8080/"
        },
        "id": "DmyGBP6fLtsx",
        "outputId": "245a1043-f5ae-4f94-80df-240805e1080b"
      },
      "execution_count": 6,
      "outputs": [
        {
          "output_type": "stream",
          "name": "stdout",
          "text": [
            "Enter the number of days you have delayed returning the library book: 15\n",
            "The total fine amount is: 16 rupees.\n"
          ]
        }
      ]
    },
    {
      "cell_type": "markdown",
      "source": [
        "6. Write a program that checks if a given character is a vowel. Use\n",
        "the in operator to check if the character is present in a string of\n",
        "vowels (\"aeiou\")."
      ],
      "metadata": {
        "id": "ExxBKDAYMXie"
      }
    },
    {
      "cell_type": "code",
      "source": [
        "char = input(\"Enter a character: \").lower()\n",
        "\n",
        "vowels = \"aeiou\"\n",
        "\n",
        "if char in vowels:\n",
        "    print(f\"The character '{char}' is a vowel.\")\n",
        "else:\n",
        "    print(f\"The character '{char}' is not a vowel.\")\n"
      ],
      "metadata": {
        "colab": {
          "base_uri": "https://localhost:8080/"
        },
        "id": "l42K281IMOJs",
        "outputId": "836a5a78-4b3e-4057-9ee1-8800f45bd4a0"
      },
      "execution_count": 8,
      "outputs": [
        {
          "output_type": "stream",
          "name": "stdout",
          "text": [
            "Enter a character: a\n",
            "The character 'a' is a vowel.\n"
          ]
        }
      ]
    },
    {
      "cell_type": "markdown",
      "source": [
        "7. Implement a program that calculates the factorial of a number\n",
        "using a loop"
      ],
      "metadata": {
        "id": "hIvyu2pPMvdv"
      }
    },
    {
      "cell_type": "code",
      "source": [
        "num = int(input(\"Enter a Number: \"))\n",
        "\n",
        "factorial = 1\n",
        "\n",
        "if num < 0:\n",
        "    print(\"Factorial is not defined for negative numbers.\")\n",
        "elif num == 0:\n",
        "    print(\"The factorial of 0 is 1.\")\n",
        "else:\n",
        "    for i in range(1, num + 1):\n",
        "        factorial *= i\n",
        "    print(f\"The factorial of {num} is {factorial}.\")\n"
      ],
      "metadata": {
        "colab": {
          "base_uri": "https://localhost:8080/"
        },
        "id": "vCVpUU1oMqeP",
        "outputId": "1383d142-9736-4086-c956-a525704face5"
      },
      "execution_count": 11,
      "outputs": [
        {
          "output_type": "stream",
          "name": "stdout",
          "text": [
            "Enter a Number: 8\n",
            "The factorial of 8 is 40320.\n"
          ]
        }
      ]
    },
    {
      "cell_type": "markdown",
      "source": [
        "8. Generate the Fibonacci sequence (0, 1, 1, 2, 3, ...) up to a certain\n",
        "limit using a loop."
      ],
      "metadata": {
        "id": "sjlwlfD7NNPu"
      }
    },
    {
      "cell_type": "code",
      "source": [
        "limit = int(input(\"Enter the limit for the Fibonacci sequence: \"))\n",
        "\n",
        "a, b = 0, 1\n",
        "\n",
        "print(\"Fibonacci sequence up to\", limit, \":\")\n",
        "\n",
        "while a <= limit:\n",
        "    print(a, end=' ')\n",
        "    a, b = b, a + b\n"
      ],
      "metadata": {
        "colab": {
          "base_uri": "https://localhost:8080/"
        },
        "id": "DTEHiVbRM-x6",
        "outputId": "335a7aa3-34f5-435f-ee53-569518168394"
      },
      "execution_count": 12,
      "outputs": [
        {
          "output_type": "stream",
          "name": "stdout",
          "text": [
            "Enter the limit for the Fibonacci sequence: 16\n",
            "Fibonacci sequence up to 16 :\n",
            "0 1 1 2 3 5 8 13 "
          ]
        }
      ]
    },
    {
      "cell_type": "markdown",
      "source": [
        "9. Create a number guessing game where the computer generates a\n",
        "random number and the user has to guess it within a certain\n",
        "number of attempts using a loop"
      ],
      "metadata": {
        "id": "LijgY8L3Ng-f"
      }
    },
    {
      "cell_type": "code",
      "source": [
        "import random\n",
        "\n",
        "lower_bound = 1\n",
        "upper_bound = 100\n",
        "\n",
        "random_number = random.randint(lower_bound, upper_bound)\n",
        "\n",
        "max_attempts = 10\n",
        "attempts = 0\n",
        "\n",
        "print(f\"Guess the number between {lower_bound} and {upper_bound}. You have {max_attempts} attempts.\")\n",
        "\n",
        "\n",
        "while attempts < max_attempts:\n",
        "    guess = int(input(\"Enter your guess: \"))\n",
        "    attempts += 1\n",
        "\n",
        "    if guess < random_number:\n",
        "        print(\"Too low! Try again.\")\n",
        "    elif guess > random_number:\n",
        "        print(\"Too high! Try again.\")\n",
        "    else:\n",
        "        print(f\"Congratulations! You guessed the number {random_number} correctly in {attempts} attempts.\")\n",
        "        break\n",
        "else:\n",
        "    print(f\"Sorry, you've used all {max_attempts} attempts. The correct number was {random_number}.\")\n"
      ],
      "metadata": {
        "colab": {
          "base_uri": "https://localhost:8080/"
        },
        "id": "V_nO6nFgNdiz",
        "outputId": "d8a714ec-c04e-4321-9242-bcbe68a82930"
      },
      "execution_count": 13,
      "outputs": [
        {
          "output_type": "stream",
          "name": "stdout",
          "text": [
            "Guess the number between 1 and 100. You have 10 attempts.\n",
            "Enter your guess: 5\n",
            "Too low! Try again.\n",
            "Enter your guess: 68\n",
            "Too low! Try again.\n",
            "Enter your guess: 47\n",
            "Too low! Try again.\n",
            "Enter your guess: 99\n",
            "Too high! Try again.\n",
            "Enter your guess: 75\n",
            "Too low! Try again.\n",
            "Enter your guess: 80\n",
            "Congratulations! You guessed the number 80 correctly in 6 attempts.\n"
          ]
        }
      ]
    },
    {
      "cell_type": "markdown",
      "source": [
        "10. Write a menu driven calculator with following menu:\n",
        "a. Addition\n",
        "b. Subtraction\n",
        "c. Division\n",
        "d. Multiplication\n",
        "e. Exit"
      ],
      "metadata": {
        "id": "ZKrHMWzSOFeY"
      }
    },
    {
      "cell_type": "code",
      "source": [
        "def add(x, y):\n",
        "    return x + y\n",
        "\n",
        "def subtract(x, y):\n",
        "    return x - y\n",
        "\n",
        "def multiply(x, y):\n",
        "    return x * y\n",
        "\n",
        "def divide(x, y):\n",
        "    if y == 0:\n",
        "        return \"Error: Division by zero is not allowed.\"\n",
        "    else:\n",
        "        return x / y\n",
        "\n",
        "while True:\n",
        "    print(\"\\nMenu:\")\n",
        "    print(\"a. Addition\")\n",
        "    print(\"b. Subtraction\")\n",
        "    print(\"c. Division\")\n",
        "    print(\"d. Multiplication\")\n",
        "    print(\"e. Exit\")\n",
        "\n",
        "\n",
        "    choice = input(\"Enter your choice (a/b/c/d/e): \").lower()\n",
        "\n",
        "    if choice in ['a', 'b', 'c', 'd']:\n",
        "        try:\n",
        "            num1 = float(input(\"Enter the first number: \"))\n",
        "            num2 = float(input(\"Enter the second number: \"))\n",
        "        except ValueError:\n",
        "            print(\"Invalid input. Please enter numeric values.\")\n",
        "            continue\n",
        "\n",
        "    if choice == 'a':\n",
        "        print(\"Result: \", add(num1, num2))\n",
        "    elif choice == 'b':\n",
        "        print(\"Result: \", subtract(num1, num2))\n",
        "    elif choice == 'c':\n",
        "        print(\"Result: \", divide(num1, num2))\n",
        "    elif choice == 'd':\n",
        "        print(\"Result: \", multiply(num1, num2))\n",
        "    elif choice == 'e':\n",
        "        print(\"Exiting the program.\")\n",
        "        break\n",
        "    else:\n",
        "        print(\"Invalid choice. Please select a valid option.\")\n"
      ],
      "metadata": {
        "colab": {
          "base_uri": "https://localhost:8080/"
        },
        "id": "ZIpqFXj-N6BZ",
        "outputId": "7d6484df-6b85-4b4e-aba4-44d25c17ee43"
      },
      "execution_count": 15,
      "outputs": [
        {
          "output_type": "stream",
          "name": "stdout",
          "text": [
            "\n",
            "Menu:\n",
            "a. Addition\n",
            "b. Subtraction\n",
            "c. Division\n",
            "d. Multiplication\n",
            "e. Exit\n",
            "Enter your choice (a/b/c/d/e): a\n",
            "Enter the first number: 5\n",
            "Enter the second number: 4\n",
            "Result:  9.0\n",
            "\n",
            "Menu:\n",
            "a. Addition\n",
            "b. Subtraction\n",
            "c. Division\n",
            "d. Multiplication\n",
            "e. Exit\n",
            "Enter your choice (a/b/c/d/e): e\n",
            "Exiting the program.\n"
          ]
        }
      ]
    },
    {
      "cell_type": "code",
      "source": [],
      "metadata": {
        "id": "siQS5QYoOemO"
      },
      "execution_count": null,
      "outputs": []
    }
  ]
}