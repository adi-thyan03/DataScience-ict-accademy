{
  "nbformat": 4,
  "nbformat_minor": 0,
  "metadata": {
    "colab": {
      "provenance": [],
      "authorship_tag": "ABX9TyM2mT9Eqc4wvzrfoa2u/MII",
      "include_colab_link": true
    },
    "kernelspec": {
      "name": "python3",
      "display_name": "Python 3"
    },
    "language_info": {
      "name": "python"
    }
  },
  "cells": [
    {
      "cell_type": "markdown",
      "metadata": {
        "id": "view-in-github",
        "colab_type": "text"
      },
      "source": [
        "<a href=\"https://colab.research.google.com/github/adi-thyan03/DataScience-ict-accademy/blob/main/python_day2_pratice.ipynb\" target=\"_parent\"><img src=\"https://colab.research.google.com/assets/colab-badge.svg\" alt=\"Open In Colab\"/></a>"
      ]
    },
    {
      "cell_type": "markdown",
      "source": [
        "1. Given the string \"Hello, World!\", extract and print the\n",
        "substring \"Hello\"."
      ],
      "metadata": {
        "id": "q3pncbeAPtfJ"
      }
    },
    {
      "cell_type": "code",
      "execution_count": 1,
      "metadata": {
        "id": "QcfjTWOHPj4-",
        "colab": {
          "base_uri": "https://localhost:8080/"
        },
        "outputId": "669ecb75-6bfa-4044-f0c0-81a394c86eb5"
      },
      "outputs": [
        {
          "output_type": "stream",
          "name": "stdout",
          "text": [
            "Hello\n"
          ]
        }
      ],
      "source": [
        "string = \"Hello, World!\"\n",
        "\n",
        "substring = string[0:5]\n",
        "\n",
        "print(substring)\n"
      ]
    },
    {
      "cell_type": "markdown",
      "source": [
        "2. Given the string \"Python is fun\", extract and print the\n",
        "substring \"is\"."
      ],
      "metadata": {
        "id": "gfWrH4pMQO5N"
      }
    },
    {
      "cell_type": "code",
      "source": [
        "string = \"Python is fun\"\n",
        "\n",
        "substring = string[7:9]\n",
        "\n",
        "print(substring)\n"
      ],
      "metadata": {
        "id": "yIMj-GloP9lQ",
        "colab": {
          "base_uri": "https://localhost:8080/"
        },
        "outputId": "744d2fcf-d747-4ed8-e914-698e29d7a227"
      },
      "execution_count": 2,
      "outputs": [
        {
          "output_type": "stream",
          "name": "stdout",
          "text": [
            "is\n"
          ]
        }
      ]
    },
    {
      "cell_type": "markdown",
      "source": [
        "3. Given the string \"Programming\", extract and print the\n",
        "substring \"gram\" using slicing indices."
      ],
      "metadata": {
        "id": "5xg6Ats6QgJ_"
      }
    },
    {
      "cell_type": "code",
      "source": [
        "string = \"Programming\"\n",
        "\n",
        "substring = string[3:7]\n",
        "\n",
        "print(substring)\n"
      ],
      "metadata": {
        "id": "mrL2S0svQeac",
        "colab": {
          "base_uri": "https://localhost:8080/"
        },
        "outputId": "b1c7ca02-d1cf-4972-9df6-03e0834eb3f2"
      },
      "execution_count": 3,
      "outputs": [
        {
          "output_type": "stream",
          "name": "stdout",
          "text": [
            "gram\n"
          ]
        }
      ]
    },
    {
      "cell_type": "markdown",
      "source": [
        "4. Given the string \"abcdefgh\", use slicing to print only the\n",
        "characters at even indices."
      ],
      "metadata": {
        "id": "XJLXZk36QvqG"
      }
    },
    {
      "cell_type": "code",
      "source": [
        "string = \"abcdefgh\"\n",
        "\n",
        "even_index_chars = string[::2]\n",
        "\n",
        "print(even_index_chars)\n"
      ],
      "metadata": {
        "id": "KtXlqKe5Qtee",
        "colab": {
          "base_uri": "https://localhost:8080/"
        },
        "outputId": "9198451e-ac44-44a4-e57a-5d4e27d7c7bb"
      },
      "execution_count": 4,
      "outputs": [
        {
          "output_type": "stream",
          "name": "stdout",
          "text": [
            "aceg\n"
          ]
        }
      ]
    },
    {
      "cell_type": "markdown",
      "source": [
        "5. Given the string \"abcdefg\", use negative indices to extract\n",
        "and print the substring \"efg\""
      ],
      "metadata": {
        "id": "yzwMZGIuRA7h"
      }
    },
    {
      "cell_type": "code",
      "source": [
        "string = \"abcdefg\"\n",
        "\n",
        "substring = string[-3::]\n",
        "\n",
        "print(substring)\n"
      ],
      "metadata": {
        "id": "GR0jwiFyRBoA",
        "colab": {
          "base_uri": "https://localhost:8080/"
        },
        "outputId": "f1708293-16e8-4383-8f44-570ddea97715"
      },
      "execution_count": 8,
      "outputs": [
        {
          "output_type": "stream",
          "name": "stdout",
          "text": [
            "efg\n"
          ]
        }
      ]
    },
    {
      "cell_type": "markdown",
      "source": [
        "6. Given the string \"Data Science\", use negative indices to\n",
        "extract and print the last three characters"
      ],
      "metadata": {
        "id": "Y2KTIb_uRQWl"
      }
    },
    {
      "cell_type": "code",
      "source": [
        "string = \"Data Science\"\n",
        "\n",
        "last_three_chars = string[-3:]\n",
        "\n",
        "print(last_three_chars)\n"
      ],
      "metadata": {
        "id": "k6ZvG7R-RO1w",
        "colab": {
          "base_uri": "https://localhost:8080/"
        },
        "outputId": "846977b4-0891-45b7-da43-4a9a9fb412c4"
      },
      "execution_count": 9,
      "outputs": [
        {
          "output_type": "stream",
          "name": "stdout",
          "text": [
            "nce\n"
          ]
        }
      ]
    },
    {
      "cell_type": "markdown",
      "source": [
        "7. Given the string \"abcdefghij\", use slicing with a step to\n",
        "print every second character."
      ],
      "metadata": {
        "id": "saLKEZwGRdNQ"
      }
    },
    {
      "cell_type": "code",
      "source": [
        "string = \"abcdefghij\"\n",
        "\n",
        "every_second_char = string[::2]\n",
        "\n",
        "print(every_second_char)\n"
      ],
      "metadata": {
        "id": "JkiEMP3TRcpk",
        "colab": {
          "base_uri": "https://localhost:8080/"
        },
        "outputId": "a15f7f9b-3fbe-45cf-f3cb-ce02aadbb7a0"
      },
      "execution_count": 10,
      "outputs": [
        {
          "output_type": "stream",
          "name": "stdout",
          "text": [
            "acegi\n"
          ]
        }
      ]
    },
    {
      "cell_type": "markdown",
      "source": [
        "8. Given the string \"1234567890\", use slicing with a step to\n",
        "print the odd digits."
      ],
      "metadata": {
        "id": "5u869y9rRqIl"
      }
    },
    {
      "cell_type": "code",
      "source": [
        "string = \"1234567890\"\n",
        "\n",
        "odd_digits = string[1::2]\n",
        "\n",
        "print(odd_digits)\n"
      ],
      "metadata": {
        "id": "4DyjRDW4Rpza",
        "colab": {
          "base_uri": "https://localhost:8080/"
        },
        "outputId": "0c7eb235-841b-4ca9-e44c-5c96eb6b67fd"
      },
      "execution_count": 11,
      "outputs": [
        {
          "output_type": "stream",
          "name": "stdout",
          "text": [
            "24680\n"
          ]
        }
      ]
    },
    {
      "cell_type": "markdown",
      "source": [
        "9. Given the string \"Hello\", use slicing to print the string in\n",
        "reverse order"
      ],
      "metadata": {
        "id": "2Uw1uBDZR3CX"
      }
    },
    {
      "cell_type": "code",
      "source": [
        "string = \"Hello\"\n",
        "\n",
        "reversed_string = string[::-1]\n",
        "\n",
        "print(reversed_string)\n"
      ],
      "metadata": {
        "id": "4781I5GER2th",
        "colab": {
          "base_uri": "https://localhost:8080/"
        },
        "outputId": "c6fccf96-3f6e-46ad-fc30-a44dd2a32318"
      },
      "execution_count": 12,
      "outputs": [
        {
          "output_type": "stream",
          "name": "stdout",
          "text": [
            "olleH\n"
          ]
        }
      ]
    },
    {
      "cell_type": "markdown",
      "source": [
        "10. Given the string \"abcdefghijk\", extract and print the\n",
        "substring \"acegik\" using slicing."
      ],
      "metadata": {
        "id": "aFwUKGZpSFDc"
      }
    },
    {
      "cell_type": "code",
      "source": [
        "string = \"abcdefghijk\"\n",
        "\n",
        "substring = string[0:11:2]\n",
        "\n",
        "print(substring)\n"
      ],
      "metadata": {
        "id": "CkfpamcTSEwl",
        "colab": {
          "base_uri": "https://localhost:8080/"
        },
        "outputId": "4392d832-1ff2-4c97-e25c-2fa43d7737d5"
      },
      "execution_count": 13,
      "outputs": [
        {
          "output_type": "stream",
          "name": "stdout",
          "text": [
            "acegik\n"
          ]
        }
      ]
    },
    {
      "cell_type": "markdown",
      "source": [
        "11. Write a program to find sum of all elements in a list of\n",
        "integers.\n"
      ],
      "metadata": {
        "id": "_5NpD6SySS06"
      }
    },
    {
      "cell_type": "code",
      "source": [
        "numbers = [int(x) for x in input(\"Enter a list of integers separated by spaces: \").split()]\n",
        "\n",
        "total_sum = sum(numbers)\n",
        "\n",
        "print(\"The sum of all elements in the list is:\", total_sum)\n"
      ],
      "metadata": {
        "id": "bUMJRcHcSSY0",
        "colab": {
          "base_uri": "https://localhost:8080/"
        },
        "outputId": "dd0203e9-942d-4ce2-fe37-0903dd61f32e"
      },
      "execution_count": 14,
      "outputs": [
        {
          "output_type": "stream",
          "name": "stdout",
          "text": [
            "Enter a list of integers separated by spaces: 1 4 5 7 6 4 2\n",
            "The sum of all elements in the list is: 29\n"
          ]
        }
      ]
    },
    {
      "cell_type": "markdown",
      "source": [
        "12. Input a sentence as a string.\n",
        "a) Print its length\n",
        "b) Print the first half of string"
      ],
      "metadata": {
        "id": "d8V3_yhdShrU"
      }
    },
    {
      "cell_type": "code",
      "source": [
        "sentence = input(\"Enter a sentence: \")\n",
        "\n",
        "length = len(sentence)\n",
        "print(\"The length of the sentence is:\", length)\n",
        "\n",
        "half_index = length // 2\n",
        "first_half = sentence[:half_index]\n",
        "print(\"The first half of the sentence is:\", first_half)\n"
      ],
      "metadata": {
        "id": "UXqprkfPShVt",
        "colab": {
          "base_uri": "https://localhost:8080/"
        },
        "outputId": "68b35ac5-30b6-4399-dac1-1a4410fd0a4a"
      },
      "execution_count": 15,
      "outputs": [
        {
          "output_type": "stream",
          "name": "stdout",
          "text": [
            "Enter a sentence: datascience\n",
            "The length of the sentence is: 11\n",
            "The first half of the sentence is: datas\n"
          ]
        }
      ]
    },
    {
      "cell_type": "markdown",
      "source": [
        "13. Write a program to enter a tuple of integers as\n",
        "(78,45,32,19,82,77,40,39). Change the third value in the tuple to\n",
        "100"
      ],
      "metadata": {
        "id": "5YV6nl37Sxft"
      }
    },
    {
      "cell_type": "code",
      "source": [
        "original_tuple = (78, 45, 32, 19, 82, 77, 40, 39)\n",
        "\n",
        "temp_list = list(original_tuple)\n",
        "\n",
        "temp_list[2] = 100\n",
        "\n",
        "modified_tuple = tuple(temp_list)\n",
        "\n",
        "print(\"Modified tuple:\", modified_tuple)\n"
      ],
      "metadata": {
        "id": "NKJBFC7TSxIa",
        "colab": {
          "base_uri": "https://localhost:8080/"
        },
        "outputId": "8f69aac4-37ed-46da-da49-9379cd8df718"
      },
      "execution_count": 16,
      "outputs": [
        {
          "output_type": "stream",
          "name": "stdout",
          "text": [
            "Modified tuple: (78, 45, 100, 19, 82, 77, 40, 39)\n"
          ]
        }
      ]
    },
    {
      "cell_type": "markdown",
      "source": [
        "14. Consider a list\n",
        "listA=[19,32,10,55,31,32,94,29,10,65,77,40,40]\n",
        "(a) Delete the first occurrence of 32\n",
        "(b) Delete all occurrences of 40\n",
        "(c) Delete the value at index=5\n",
        "(d) Modify the value at index=9 as 300\n",
        "(e) Add 200 at index=2\n",
        "(f) Print the final list with its length, maximum value\n",
        "and sum of all elements\n"
      ],
      "metadata": {
        "id": "zzGTPb8JTU9u"
      }
    },
    {
      "cell_type": "code",
      "source": [
        "listA = [19, 32, 10, 55, 31, 32, 94, 29, 10, 65, 77, 40, 40]\n",
        "\n",
        "if 32 in listA:\n",
        "    listA.remove(32)\n",
        "print(\"After removing 32:\", listA)\n",
        "listA = [x for x in listA if x != 40]\n",
        "print(\"After deleting occurence of 40:\", listA)\n",
        "if len(listA) > 5:\n",
        "    del listA[5]\n",
        "print(\"After deleting index 5 :\", listA)\n",
        "listA.insert(9,300)\n",
        "print(\"After modifying the value at index 9 :\", listA)\n",
        "listA.insert(2, 200)\n",
        "print(\"After adding 200 at index 2 :\", listA)\n",
        "\n",
        "print(\"Final list:\", listA)\n",
        "print(\"Length of the list:\", len(listA))\n",
        "print(\"Maximum value in the list:\", max(listA))\n",
        "print(\"Sum of all elements in the list:\", sum(listA))\n"
      ],
      "metadata": {
        "id": "YE7whO7JTUss",
        "colab": {
          "base_uri": "https://localhost:8080/"
        },
        "outputId": "c3e1c1f7-3082-4383-d154-c8bf791bbbfe"
      },
      "execution_count": 20,
      "outputs": [
        {
          "output_type": "stream",
          "name": "stdout",
          "text": [
            "After removing 32: [19, 10, 55, 31, 32, 94, 29, 10, 65, 77, 40, 40]\n",
            "After deleting occurence of 40: [19, 10, 55, 31, 32, 94, 29, 10, 65, 77]\n",
            "After deleting index 5 : [19, 10, 55, 31, 32, 29, 10, 65, 77]\n",
            "After modifying the value at index 9 : [19, 10, 55, 31, 32, 29, 10, 65, 77, 300]\n",
            "After adding 200 at index 2 : [19, 10, 200, 55, 31, 32, 29, 10, 65, 77, 300]\n",
            "Final list: [19, 10, 200, 55, 31, 32, 29, 10, 65, 77, 300]\n",
            "Length of the list: 11\n",
            "Maximum value in the list: 300\n",
            "Sum of all elements in the list: 828\n"
          ]
        }
      ]
    },
    {
      "cell_type": "markdown",
      "source": [
        "15. Consider a string ”The day has been long”.\n",
        "(a) Delete the value at index =4\n",
        "(b) Print the string 4 times in a single line with space\n",
        "between each repetition\n",
        "(c) Print the string 3 times in a new line each time\n",
        "(d) Modify the string at index 7 as ’A’\n",
        "(e) Print the string from index 4 to 15\n",
        "(f) Print the final string with its length"
      ],
      "metadata": {
        "id": "ef1CynFOTvVO"
      }
    },
    {
      "cell_type": "code",
      "source": [
        "string = \"The day has been long\"\n",
        "\n",
        "string_a = string[:4] + string[5:]\n",
        "print(\"String after deleting index 4:\", string_a)\n",
        "\n",
        "print(\" \".join([string_a] * 4))\n",
        "\n",
        "for _ in range(3):\n",
        "    print(string_a)\n",
        "\n",
        "string_d = string_a[:7] + 'A' + string_a[8:]\n",
        "print(\"String after modifying index 7:\", string_d)\n",
        "\n",
        "\n",
        "print(\"Substring from index 4 to 15:\", string_d[4:16])\n",
        "\n",
        "final_string = string_d\n",
        "print(\"Final string:\", final_string)\n",
        "print(\"Length of the final string:\", len(final_string))\n"
      ],
      "metadata": {
        "id": "SKwfqTifTvDz",
        "colab": {
          "base_uri": "https://localhost:8080/"
        },
        "outputId": "1cb5e5bc-13f4-4bac-83aa-1bd51e1b9e7c"
      },
      "execution_count": 22,
      "outputs": [
        {
          "output_type": "stream",
          "name": "stdout",
          "text": [
            "String after deleting index 4: The ay has been long\n",
            "The ay has been long The ay has been long The ay has been long The ay has been long\n",
            "The ay has been long\n",
            "The ay has been long\n",
            "The ay has been long\n",
            "String after modifying index 7: The ay Aas been long\n",
            "Substring from index 4 to 15: ay Aas been \n",
            "Final string: The ay Aas been long\n",
            "Length of the final string: 20\n"
          ]
        }
      ]
    },
    {
      "cell_type": "code",
      "source": [],
      "metadata": {
        "id": "2dWkoFpvUSPU"
      },
      "execution_count": null,
      "outputs": []
    }
  ]
}