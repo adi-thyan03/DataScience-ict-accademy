{
  "nbformat": 4,
  "nbformat_minor": 0,
  "metadata": {
    "colab": {
      "provenance": [],
      "authorship_tag": "ABX9TyMCllunA13ADMaMy91oJaRe",
      "include_colab_link": true
    },
    "kernelspec": {
      "name": "python3",
      "display_name": "Python 3"
    },
    "language_info": {
      "name": "python"
    }
  },
  "cells": [
    {
      "cell_type": "markdown",
      "metadata": {
        "id": "view-in-github",
        "colab_type": "text"
      },
      "source": [
        "<a href=\"https://colab.research.google.com/github/adi-thyan03/DataScience-ict-accademy/blob/main/python_practice1.ipynb\" target=\"_parent\"><img src=\"https://colab.research.google.com/assets/colab-badge.svg\" alt=\"Open In Colab\"/></a>"
      ]
    },
    {
      "cell_type": "markdown",
      "source": [
        "1. Write a Python program which accepts the radius of a circle from the user\n",
        "and compute the area.\n",
        "Sample input: Enter the radius: 3\n",
        "Sample output: Area of Circle is 28.59999999999"
      ],
      "metadata": {
        "id": "eyztYpxECN4H"
      }
    },
    {
      "cell_type": "code",
      "execution_count": 1,
      "metadata": {
        "colab": {
          "base_uri": "https://localhost:8080/"
        },
        "id": "uI20_f5qCGwN",
        "outputId": "6d3ed00a-4618-4294-da6b-8f184203de33"
      },
      "outputs": [
        {
          "output_type": "stream",
          "name": "stdout",
          "text": [
            "Enter the radius of the circle: 3\n",
            "The area of the circle with radius 3.0 is: 28.27\n"
          ]
        }
      ],
      "source": [
        "import math\n",
        "\n",
        "def calculate_area_of_circle(radius):\n",
        "    return math.pi * (radius ** 2)\n",
        "\n",
        "try:\n",
        "    radius = float(input(\"Enter the radius of the circle: \"))\n",
        "\n",
        "    if radius < 0:\n",
        "        print(\"Radius cannot be negative. Please enter a non-negative value.\")\n",
        "    else:\n",
        "        area = calculate_area_of_circle(radius)\n",
        "        print(f\"The area of the circle with radius {radius} is: {area:.2f}\")\n",
        "\n",
        "except ValueError:\n",
        "    print(\"Invalid input. Please enter a numeric value for the radius.\")\n"
      ]
    },
    {
      "cell_type": "markdown",
      "source": [
        "2. Write a Python Program to accept the details of a student like name, roll\n",
        "number and mark and display it.\n",
        "Sample input: Enter the name: Anisha\n",
        "Enter the roll number: 21\n",
        "Enter the mark: 78\n",
        "Sample output: Name: Anisha\n",
        "Roll No: 21\n",
        "Mark: 78\n"
      ],
      "metadata": {
        "id": "4lKeSIffCvST"
      }
    },
    {
      "cell_type": "code",
      "source": [
        "def get_student_details():\n",
        "\n",
        "    name = input(\"Enter the student's name: \")\n",
        "    roll_number = input(\"Enter the student's roll number: \")\n",
        "    try:\n",
        "        marks = float(input(\"Enter the student's marks: \"))\n",
        "    except ValueError:\n",
        "        print(\"Invalid input. Marks should be a numeric value.\")\n",
        "        return\n",
        "\n",
        "    print(\"\\nStudent Details:\")\n",
        "    print(f\"Name: {name}\")\n",
        "    print(f\"Roll Number: {roll_number}\")\n",
        "    print(f\"Marks: {marks:.2f}\")\n",
        "\n",
        "get_student_details()\n"
      ],
      "metadata": {
        "colab": {
          "base_uri": "https://localhost:8080/"
        },
        "id": "LAuPu5ioCnZ6",
        "outputId": "2f39f39a-c844-43e7-f1d2-aa41c3acb0d3"
      },
      "execution_count": 2,
      "outputs": [
        {
          "output_type": "stream",
          "name": "stdout",
          "text": [
            "Enter the student's name: Anisha\n",
            "Enter the student's roll number: 21\n",
            "Enter the student's marks: 78\n",
            "\n",
            "Student Details:\n",
            "Name: Anisha\n",
            "Roll Number: 21\n",
            "Marks: 78.00\n"
          ]
        }
      ]
    },
    {
      "cell_type": "markdown",
      "source": [
        "3. Write a Python program to get the largest number from a list.\n",
        "Sample input: 12, 3, 47, 10\n",
        "Sample output: 47 is the largest number"
      ],
      "metadata": {
        "id": "vHZUvbgrDL-m"
      }
    },
    {
      "cell_type": "code",
      "source": [
        "def find_largest_number(numbers):\n",
        "    if not numbers:\n",
        "        return None\n",
        "\n",
        "    largest = numbers[0]\n",
        "    for num in numbers:\n",
        "        if num > largest:\n",
        "            largest = num\n",
        "\n",
        "    return largest\n",
        "\n",
        "\n",
        "numbers = [12,3,47,10]\n",
        "\n",
        "\n",
        "largest_number = find_largest_number(numbers)\n",
        "\n",
        "\n",
        "if largest_number is not None:\n",
        "    print(f\"The largest number in the list is: {largest_number}\")\n",
        "else:\n",
        "    print(\"The list is empty.\")\n"
      ],
      "metadata": {
        "colab": {
          "base_uri": "https://localhost:8080/"
        },
        "id": "aOQ25H4yDDN3",
        "outputId": "6d9b0cec-a998-410f-de7a-345aea508c76"
      },
      "execution_count": 3,
      "outputs": [
        {
          "output_type": "stream",
          "name": "stdout",
          "text": [
            "The largest number in the list is: 47\n"
          ]
        }
      ]
    },
    {
      "cell_type": "markdown",
      "source": [
        "4.  Given a range of first 10 numbers, write a Python program to iterate from\n",
        "start number to the end number and print the sum of the current number\n",
        "and previous number.\n",
        "Sample input: 1….10\n",
        "Sample output: Current Number 1 Previous Number 0 Sum: 1 Current\n",
        "Number 2 Previous Number 1 Sum: 3 Current Number 3 Previous\n",
        "Number 2 Sum: 5… Current Number 10 Previous Number 9 Sum: 19"
      ],
      "metadata": {
        "id": "WqJPy0uTDq9E"
      }
    },
    {
      "cell_type": "code",
      "source": [
        "def sum_of_current_and_previous(start, end):\n",
        "    previous_number = start\n",
        "    for current_number in range(start + 1, end + 1):\n",
        "        sum_of_numbers = current_number + previous_number\n",
        "        print(f\"Sum of {current_number} and {previous_number} is: {sum_of_numbers}\")\n",
        "        previous_number = current_number\n",
        "\n",
        "\n",
        "start_number = 1\n",
        "end_number = 10\n",
        "\n",
        "\n",
        "sum_of_current_and_previous(start_number, end_number)\n",
        "\n"
      ],
      "metadata": {
        "colab": {
          "base_uri": "https://localhost:8080/"
        },
        "id": "Zx4adAYQDo8K",
        "outputId": "69dc28bb-2b48-4c56-e673-6f0912244e3e"
      },
      "execution_count": 4,
      "outputs": [
        {
          "output_type": "stream",
          "name": "stdout",
          "text": [
            "Sum of 2 and 1 is: 3\n",
            "Sum of 3 and 2 is: 5\n",
            "Sum of 4 and 3 is: 7\n",
            "Sum of 5 and 4 is: 9\n",
            "Sum of 6 and 5 is: 11\n",
            "Sum of 7 and 6 is: 13\n",
            "Sum of 8 and 7 is: 15\n",
            "Sum of 9 and 8 is: 17\n",
            "Sum of 10 and 9 is: 19\n"
          ]
        }
      ]
    },
    {
      "cell_type": "markdown",
      "source": [
        "5. Write a Python program to print only those numbers which are divisible\n",
        "of 5.\n",
        "Sample input: 10, 20,33,46,55 Sample output: 10, 20, 55"
      ],
      "metadata": {
        "id": "mpQ9p4ECEbKX"
      }
    },
    {
      "cell_type": "code",
      "source": [
        "def print_divisible_by_5(numbers):\n",
        "    divisible_by_5 = [num for num in numbers if num % 5 == 0]\n",
        "    print(\", \".join(map(str, divisible_by_5)))\n",
        "\n",
        "\n",
        "numbers = [10, 20, 33, 46, 55]\n",
        "\n",
        "print_divisible_by_5(numbers)\n"
      ],
      "metadata": {
        "colab": {
          "base_uri": "https://localhost:8080/"
        },
        "id": "ab68oYzhEIwQ",
        "outputId": "a96a2315-aa28-4be7-e960-b2c3386acfe2"
      },
      "execution_count": 5,
      "outputs": [
        {
          "output_type": "stream",
          "name": "stdout",
          "text": [
            "10, 20, 55\n"
          ]
        }
      ]
    },
    {
      "cell_type": "markdown",
      "source": [
        "6. Write a Python program to check whether a number is prime or not.\n",
        "Sample input: Enter the number: 3\n",
        "Sample output: 3 is a prime number."
      ],
      "metadata": {
        "id": "9ZYf1-bgFPJk"
      }
    },
    {
      "cell_type": "code",
      "source": [
        "def is_prime(number):\n",
        "    if number <= 1:\n",
        "        return False\n",
        "    if number <= 3:\n",
        "        return True\n",
        "    if number % 2 == 0 or number % 3 == 0:\n",
        "        return False\n",
        "    i = 5\n",
        "    while i * i <= number:\n",
        "        if number % i == 0 or number % (i + 2) == 0:\n",
        "            return False\n",
        "        i += 6\n",
        "    return True\n",
        "\n",
        "\n",
        "try:\n",
        "    num = int(input(\"Enter a number : \"))\n",
        "    if is_prime(num):\n",
        "        print(f\"{num} is a prime number.\")\n",
        "    else:\n",
        "        print(f\"{num} is not a prime number.\")\n",
        "except ValueError:\n",
        "    print(\"Invalid input. Please enter an integer.\")\n"
      ],
      "metadata": {
        "colab": {
          "base_uri": "https://localhost:8080/"
        },
        "id": "r1lcncDZFFu4",
        "outputId": "70e9ba7e-aa8f-4a58-83b4-7ee0ce40dc84"
      },
      "execution_count": 7,
      "outputs": [
        {
          "output_type": "stream",
          "name": "stdout",
          "text": [
            "Enter a number : 3\n",
            "3 is a prime number.\n"
          ]
        }
      ]
    },
    {
      "cell_type": "markdown",
      "source": [
        "7. Write a Python program to reverse a list using for loop.\n",
        "Sample input: 10,40,30,70\n",
        "Sample output: 70,30,40,10"
      ],
      "metadata": {
        "id": "_M3exR6KFqWp"
      }
    },
    {
      "cell_type": "code",
      "source": [
        "def reverse_list(original_list):\n",
        "    reversed_list = []\n",
        "    for item in original_list:\n",
        "        reversed_list.insert(0, item)\n",
        "    return reversed_list\n",
        "\n",
        "\n",
        "my_list = [10,40,30,70]\n",
        "\n",
        "\n",
        "reversed_list = reverse_list(my_list)\n",
        "\n",
        "\n",
        "print(\"Input:\", my_list)\n",
        "print(\"Output:\", reversed_list)\n"
      ],
      "metadata": {
        "colab": {
          "base_uri": "https://localhost:8080/"
        },
        "id": "rGNSiQiMFe22",
        "outputId": "954f72a4-4c40-4489-ecd7-7735e6e6a1b1"
      },
      "execution_count": 9,
      "outputs": [
        {
          "output_type": "stream",
          "name": "stdout",
          "text": [
            "Input: [10, 40, 30, 70]\n",
            "Output: [70, 30, 40, 10]\n"
          ]
        }
      ]
    },
    {
      "cell_type": "markdown",
      "source": [
        "8. Write a Python program to print the following pattern.\n",
        "*\n",
        "**\n",
        "***\n",
        "****"
      ],
      "metadata": {
        "id": "N-DwLDQQGJ7H"
      }
    },
    {
      "cell_type": "code",
      "source": [
        "def print_pattern(rows):\n",
        "    for i in range(1, rows + 1):\n",
        "        print('*' * i)\n",
        "\n",
        "\n",
        "number_of_rows = 4\n",
        "\n",
        "\n",
        "print_pattern(number_of_rows)\n"
      ],
      "metadata": {
        "colab": {
          "base_uri": "https://localhost:8080/"
        },
        "id": "_5BwTIWoF_HF",
        "outputId": "47d31d5f-847d-4bf0-b840-fc978490d1a9"
      },
      "execution_count": 10,
      "outputs": [
        {
          "output_type": "stream",
          "name": "stdout",
          "text": [
            "*\n",
            "**\n",
            "***\n",
            "****\n"
          ]
        }
      ]
    },
    {
      "cell_type": "markdown",
      "source": [
        "9. Write a Python program to find the maximum of three numbers\n",
        "Sample input: 34,12,7\n",
        "Sample output: 34\n"
      ],
      "metadata": {
        "id": "k30IopTGGhwJ"
      }
    },
    {
      "cell_type": "code",
      "source": [
        "def find_max_of_three(num1, num2, num3):\n",
        "    return max(num1, num2, num3)\n",
        "\n",
        "\n",
        "number1 = float(input(\"Enter the first number: \"))\n",
        "number2 = float(input(\"Enter the second number: \"))\n",
        "number3 = float(input(\"Enter the third number: \"))\n",
        "\n",
        "\n",
        "maximum_number = find_max_of_three(number1, number2, number3)\n",
        "\n",
        "print(f\"The maximum of {number1}, {number2}, and {number3} is: {maximum_number}\")\n"
      ],
      "metadata": {
        "colab": {
          "base_uri": "https://localhost:8080/"
        },
        "id": "Ti3kLcFkGgbk",
        "outputId": "89eceea6-51d6-40fc-d393-a5fdac830e2c"
      },
      "execution_count": 11,
      "outputs": [
        {
          "output_type": "stream",
          "name": "stdout",
          "text": [
            "Enter the first number: 34\n",
            "Enter the second number: 12\n",
            "Enter the third number: 7\n",
            "The maximum of 34.0, 12.0, and 7.0 is: 34.0\n"
          ]
        }
      ]
    },
    {
      "cell_type": "markdown",
      "source": [
        "10. Write a Python program to construct the following pattern, using a\n",
        "nested for loop.\n",
        "*\n",
        "**\n",
        "***\n",
        "****\n",
        "*****\n",
        "****\n",
        "***\n",
        "**\n",
        "*"
      ],
      "metadata": {
        "id": "VxHQ0O9nG2zD"
      }
    },
    {
      "cell_type": "code",
      "source": [
        "def print_pattern():\n",
        "\n",
        "    max_stars = 5\n",
        "\n",
        "    for i in range(1, max_stars + 1):\n",
        "        print('*' * i)\n",
        "\n",
        "    for i in range(max_stars - 1, 0, -1):\n",
        "        print('*' * i)\n",
        "\n",
        "print_pattern()\n"
      ],
      "metadata": {
        "colab": {
          "base_uri": "https://localhost:8080/"
        },
        "id": "dX4qE9bRGyKL",
        "outputId": "aa08ba74-7210-4b2a-c9c4-bf9fc9825ea8"
      },
      "execution_count": 12,
      "outputs": [
        {
          "output_type": "stream",
          "name": "stdout",
          "text": [
            "*\n",
            "**\n",
            "***\n",
            "****\n",
            "*****\n",
            "****\n",
            "***\n",
            "**\n",
            "*\n"
          ]
        }
      ]
    },
    {
      "cell_type": "code",
      "source": [],
      "metadata": {
        "id": "T1cbnHCpHMsZ"
      },
      "execution_count": null,
      "outputs": []
    }
  ]
}